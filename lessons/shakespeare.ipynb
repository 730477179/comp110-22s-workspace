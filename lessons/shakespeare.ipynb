{
 "cells": [
  {
   "cell_type": "markdown",
   "metadata": {},
   "source": [
    "# Processing Shakespeare\n",
    "\n",
    "Counting all the letters in Shakespeares' work.\n",
    "\n",
    "First step is to read each line of the text file into a list of strings."
   ]
  },
  {
   "cell_type": "code",
   "execution_count": 8,
   "metadata": {},
   "outputs": [
    {
     "name": "stdout",
     "output_type": "stream",
     "text": [
      "124199\n"
     ]
    }
   ],
   "source": [
    "from io import TextIOWrapper\n",
    "\n",
    "def read_lines(filename: str) -> list[str]:\n",
    "    \"\"\"Read a text file into a list of strings for each line.\"\"\"\n",
    "    lines: list[str] = []\n",
    "    file_handle: TextIOWrapper = open(filename, \"r\")\n",
    "    for line in file_handle:\n",
    "        line = line.strip()\n",
    "        line = line.lower()\n",
    "        lines.append(line)\n",
    "    return lines\n",
    " \n",
    "shakespeares_lines: list[str] = read_lines(\"./shakespeare.txt\")\n",
    "print(len(shakespeares_lines))"
   ]
  },
  {
   "cell_type": "code",
   "execution_count": 9,
   "metadata": {},
   "outputs": [
    {
     "name": "stdout",
     "output_type": "stream",
     "text": [
      "['', '', '', '1609', '']\n"
     ]
    }
   ],
   "source": [
    "# Example of \"Slice Notation\"\n",
    "\n",
    "print(shakespeares_lines[0:5])"
   ]
  },
  {
   "cell_type": "markdown",
   "metadata": {},
   "source": [
    "The next step of our analysis is to count all of the letters in Shakespeare's complete body of work."
   ]
  },
  {
   "cell_type": "code",
   "execution_count": 10,
   "metadata": {},
   "outputs": [
    {
     "name": "stdout",
     "output_type": "stream",
     "text": [
      "{'1': 892, '6': 59, '0': 262, '9': 922, 't': 328992, 'h': 236587, 'e': 446156, ' ': 821496, 's': 248522, 'o': 313895, 'n': 242752, 'b': 61788, 'y': 94173, 'w': 89288, 'i': 253332, 'l': 169660, 'a': 288597, 'm': 111221, 'k': 35364, 'p': 58251, 'r': 237252, 'f': 80336, 'c': 87840, 'u': 128697, 'd': 149128, ',': 83064, \"'\": 31067, 'g': 68054, 'v': 37497, ':': 1810, '-': 8058, '.': 77922, '2': 340, 'z': 1626, ';': 17194, 'x': 5218, '3': 316, '?': 10475, '4': 88, 'q': 3577, '5': 78, '7': 37, 'j': 4752, '(': 599, ')': 598, '8': 33, '!': 8827, '<': 462, '>': 434, '[': 2071, ']': 2063, '\"': 450, '_': 68, '|': 33, '&': 21, '`': 1, '}': 2}\n"
     ]
    }
   ],
   "source": [
    "# Write a function named 'tally' \n",
    "# Given a reference to a dictionary, and a key:\n",
    "# Increase the value stored at the key by 1 if key exists\n",
    "# Otherwise set key's intial value to zero\n",
    "# Function that returns None\n",
    "\n",
    "def tally(counts: dict[str, int], key: str) -> None:\n",
    "    \"\"\"Mutate counts by incrementing value stored at key by 1.\"\"\"\n",
    "    if key in counts:\n",
    "        counts[key] += 1\n",
    "    else:\n",
    "        counts[key] = 1\n",
    "\n",
    "def count_letters(lines: list[str]) -> dict[str, int]:\n",
    "    \"\"\"Count the frequency of all leters in a list of strings.\"\"\"\n",
    "    counts: dict[str, int] = {}\n",
    "    # TODO  \n",
    "    # Try looping through each line in 'lines'\n",
    "    # Then loop through each char in the line\n",
    "    # Tally that char in the counts dictionary \n",
    "    for line in lines:\n",
    "        for char in line:\n",
    "            if char.isalpha():\n",
    "                tally(counts, char)\n",
    "    return counts\n",
    "\n",
    "shakepeares_counts: dict[str, int] = (count_letters(shakespeares_lines))\n",
    "\n",
    "\n",
    "\n",
    "   \n"
   ]
  },
  {
   "cell_type": "markdown",
   "metadata": {},
   "source": [
    "#Visualize with a bar chart this data about character frequencies\n"
   ]
  },
  {
   "cell_type": "code",
   "execution_count": 13,
   "metadata": {},
   "outputs": [
    {
     "ename": "ModuleNotFoundError",
     "evalue": "No module named 'matplotlib'",
     "output_type": "error",
     "traceback": [
      "\u001b[1;31m---------------------------------------------------------------------------\u001b[0m",
      "\u001b[1;31mModuleNotFoundError\u001b[0m                       Traceback (most recent call last)",
      "\u001b[1;32mc:\\Users\\lilym\\Downloads\\New folder\\comp110-22s-workspace\\lessons\\shakespeare.ipynb Cell 7'\u001b[0m in \u001b[0;36m<cell line: 1>\u001b[1;34m()\u001b[0m\n\u001b[1;32m----> <a href='vscode-notebook-cell:/c%3A/Users/lilym/Downloads/New%20folder/comp110-22s-workspace/lessons/shakespeare.ipynb#ch0000008?line=0'>1</a>\u001b[0m \u001b[39mfrom\u001b[39;00m \u001b[39mmatplotlib\u001b[39;00m \u001b[39mimport\u001b[39;00m pyplot\n\u001b[0;32m      <a href='vscode-notebook-cell:/c%3A/Users/lilym/Downloads/New%20folder/comp110-22s-workspace/lessons/shakespeare.ipynb#ch0000008?line=2'>3</a>\u001b[0m pyplot\u001b[39m.\u001b[39mtitle(\u001b[39m\"\u001b[39m\u001b[39mFrequiencies of letters in Shakespeare\u001b[39m\u001b[39m\"\u001b[39m)\n\u001b[0;32m      <a href='vscode-notebook-cell:/c%3A/Users/lilym/Downloads/New%20folder/comp110-22s-workspace/lessons/shakespeare.ipynb#ch0000008?line=3'>4</a>\u001b[0m pyplot\u001b[39m.\u001b[39mxlabel(\u001b[39m\"\u001b[39m\u001b[39mLetters\u001b[39m\u001b[39m\"\u001b[39m)\n",
      "\u001b[1;31mModuleNotFoundError\u001b[0m: No module named 'matplotlib'"
     ]
    }
   ],
   "source": [
    "from matplotlib import pyplot\n",
    "\n",
    "shakespeares_counts = sorted(shakepeares_counts.items()):\n",
    "pyplot.title(\"Frequiencies of letters in Shakespeare\")\n",
    "pyplot.xlabel(\"Letters\")\n",
    "pyplot.ylabel(\"Counts\")\n",
    "labels: list[str] = list(shakepeares_counts.keys()) # TODO - List of Keys\n",
    "values: list[int] = list(shakepeares_counts.values())\n",
    "pyplot.bar(labels, values)\n"
   ]
  }
 ],
 "metadata": {
  "interpreter": {
   "hash": "2af9f17dc446710d6cbfbda10f34fa2f9f68015e6858526ec99f39a247d7a5a6"
  },
  "kernelspec": {
   "display_name": "Python 3.10.1 64-bit",
   "language": "python",
   "name": "python3"
  },
  "language_info": {
   "codemirror_mode": {
    "name": "ipython",
    "version": 3
   },
   "file_extension": ".py",
   "mimetype": "text/x-python",
   "name": "python",
   "nbconvert_exporter": "python",
   "pygments_lexer": "ipython3",
   "version": "3.10.1"
  },
  "orig_nbformat": 4
 },
 "nbformat": 4,
 "nbformat_minor": 2
}
